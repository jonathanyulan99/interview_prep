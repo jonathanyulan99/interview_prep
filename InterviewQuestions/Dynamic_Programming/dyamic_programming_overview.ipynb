{
 "cells": [
  {
   "cell_type": "markdown",
   "metadata": {},
   "source": [
    "# Dynamic Programming \n",
    "\n",
    "* Dynamic Programming (DP) is an algorithmic technique for solving an optimization problem by breaking it down into simpler subproblems and utilizing the fact that the optimal solution to the overall problem depends upon the optimal solution to its subproblems.\n",
    "\n",
    "* Fibonacci numbers are a series of numbers in which each number is the sum of the two preceding numbers.\n",
    "\n",
    "* <code> Fib(n) = Fib(n-1) + Fib(n-2), for n>1 \n",
    "\n",
    "## Characteristics of Dynamic Programming \n",
    "\n",
    "### Overlapping Subproblems\n",
    "\n",
    "* Subproblems are smaller versions of the original problem. Any problem has overlapping sub-problems if finding its solution involves solving the same subproblem multiple times.\n",
    "\n",
    "### Optimal Substructure Property \n",
    "\n",
    "* Any problem has optimal substructure property if its overall optimal solution can be constructed from the optimal solutions of its subproblems.\n",
    "\n",
    "## Dyanmic Programming Methods\n",
    "\n",
    "### Top-Down w/Memoization\n",
    "\n",
    "*  Solve the bigger problem by recursively finding the solution to smaller sub-problems. Whenever we solve a sub-problem, we <b>cache</b> its result so that we don’t end up solving it repeatedly if it’s called multiple times. Instead, we can just return the saved result. This technique of storing the results of already solved subproblems is called <b>Memoization</b>.\n",
    "\n",
    "### Bottom-Up w/Tabulation\n",
    "\n",
    "* Tabulation is the opposite of the top-down approach and avoids recursion. In this approach, we solve the problem “bottom-up” (i.e. by solving all the related sub-problems first).\n",
    "\n",
    "* Tabulation is the opposite of Memoization, as in Memoization we solve the problem and maintain a map of already solved sub-problems.We do it top-down in the sense that we solve the top problem first (which typically recurses down to solve the sub-problems)."
   ]
  }
 ],
 "metadata": {
  "language_info": {
   "name": "python"
  },
  "orig_nbformat": 4
 },
 "nbformat": 4,
 "nbformat_minor": 2
}
