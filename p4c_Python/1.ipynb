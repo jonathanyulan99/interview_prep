{
 "cells": [
  {
   "cell_type": "markdown",
   "metadata": {},
   "source": [
    "### A Python Program with Variables\n"
   ]
  },
  {
   "cell_type": "code",
   "execution_count": 6,
   "metadata": {},
   "outputs": [
    {
     "name": "stdout",
     "output_type": "stream",
     "text": [
      "What is the time value?30\n",
      "What is the upwards velocity?45\n"
     ]
    }
   ],
   "source": [
    "import math as Math\n",
    "\n",
    "'''\n",
    "Newton's Second Law\n",
    "Pg.4\n",
    "'''\n",
    "vertical_position = 0.0\n",
    "time = 0.0 \n",
    "upwards_velocity = 0.0 \n",
    "gravity = 9.81 \n",
    "\n",
    "time = float(input('What is the time value?'))\n",
    "upwards_velocity = float(input('What is the upwards velocity?'))\n",
    "vertical_position = ((upwards_velocity)*(time) - ((0.5)*(float(gravity))*(Math.pow(time,2))))"
   ]
  },
  {
   "cell_type": "code",
   "execution_count": 10,
   "metadata": {},
   "outputs": [
    {
     "name": "stdout",
     "output_type": "stream",
     "text": [
      "Height: -3064.5\n"
     ]
    }
   ],
   "source": [
    "print(\"Height: {}\".format(vertical_position))"
   ]
  },
  {
   "cell_type": "code",
   "execution_count": 20,
   "metadata": {},
   "outputs": [],
   "source": [
    "val_var = dict(vertical_position=vertical_position, time=time, upwards_velocity=upwards_velocity,gravity=gravity)"
   ]
  },
  {
   "cell_type": "code",
   "execution_count": 21,
   "metadata": {},
   "outputs": [
    {
     "data": {
      "text/plain": [
       "dict_values([-3064.5, 30.0, 45.0, 9.81])"
      ]
     },
     "execution_count": 21,
     "metadata": {},
     "output_type": "execute_result"
    }
   ],
   "source": [
    "val_var.values()"
   ]
  },
  {
   "cell_type": "code",
   "execution_count": 30,
   "metadata": {},
   "outputs": [
    {
     "name": "stdout",
     "output_type": "stream",
     "text": [
      "Index:0\n",
      "Key:vertical_position\n",
      "Value:-3064.5\n",
      "Index:0 has Value:-3064.5\n",
      "Index:1\n",
      "Key:time\n",
      "Value:30.0\n",
      "Index:1 has Value:30.0\n",
      "Index:2\n",
      "Key:upwards_velocity\n",
      "Value:45.0\n",
      "Index:2 has Value:45.0\n",
      "Index:3\n",
      "Key:gravity\n",
      "Value:9.81\n",
      "Index:3 has Value:9.81\n"
     ]
    }
   ],
   "source": [
    "index=0\n",
    "for k,v in val_var.items():\n",
    "    print('Index:{}\\nKey:{}\\nValue:{}'.format(index,k,v))\n",
    "    print('Index:{} has Value:{}'.format(index,val_var[k]))\n",
    "    index+=1"
   ]
  },
  {
   "cell_type": "code",
   "execution_count": 28,
   "metadata": {},
   "outputs": [
    {
     "data": {
      "text/plain": [
       "dict_items([('vertical_position', -3064.5), ('time', 30.0), ('upwards_velocity', 45.0), ('gravity', 9.81)])"
      ]
     },
     "execution_count": 28,
     "metadata": {},
     "output_type": "execute_result"
    }
   ],
   "source": [
    "val_var.items()"
   ]
  },
  {
   "cell_type": "code",
   "execution_count": 31,
   "metadata": {},
   "outputs": [
    {
     "name": "stdout",
     "output_type": "stream",
     "text": [
      "What is the time value?0.6\n",
      "What is the upwards velocity?5\n"
     ]
    }
   ],
   "source": [
    "vertical_position_1 = 0.0\n",
    "time_1 = 0.0 \n",
    "upwards_velocity_1 = 0.0 \n",
    "gravity_1 = 9.81 \n",
    "\n",
    "time_1 = float(input('What is the time value?'))\n",
    "upwards_velocity_1 = float(input('What is the upwards velocity?'))\n",
    "vertical_position_1 = ((upwards_velocity_1)*(time_1) - ((0.5)*(float(gravity_1))*(Math.pow(time_1,2))))"
   ]
  },
  {
   "cell_type": "code",
   "execution_count": 32,
   "metadata": {},
   "outputs": [
    {
     "name": "stdout",
     "output_type": "stream",
     "text": [
      "Height: 1.2342\n"
     ]
    }
   ],
   "source": [
    "print(\"Height: {}\".format(vertical_position_1))"
   ]
  },
  {
   "cell_type": "code",
   "execution_count": 40,
   "metadata": {},
   "outputs": [
    {
     "name": "stdout",
     "output_type": "stream",
     "text": [
      "Height: 1.2342\n"
     ]
    }
   ],
   "source": [
    "v0 = 5\n",
    "g = 9.81\n",
    "t = 0.6\n",
    "\n",
    "y = v0*t - 0.5*g*t**2\n",
    "## base**number => base^number\n",
    "print('Height: {}'.format(y))"
   ]
  },
  {
   "cell_type": "code",
   "execution_count": 45,
   "metadata": {},
   "outputs": [
    {
     "name": "stdout",
     "output_type": "stream",
     "text": [
      "Degrees:45.0\n"
     ]
    }
   ],
   "source": [
    "y_1 = 10\n",
    "x_1 = 10\n",
    "\n",
    "from math import atan as ATAN\n",
    "from math import pi as PI\n",
    "\n",
    "ans = ATAN(y_1/x_1)\n",
    "print(\"Degrees:{}\".format((ans/PI)*180))"
   ]
  },
  {
   "cell_type": "code",
   "execution_count": 47,
   "metadata": {},
   "outputs": [],
   "source": [
    "import numpy as np"
   ]
  },
  {
   "cell_type": "markdown",
   "metadata": {},
   "source": [
    "## Relative Abundance Rate Formula\n",
    "\n",
    "### AMU = (Mass$_A$) $*$(Percentage$_A$) + (Mass$_B$) $*$(Percentage$_B$) + ... + (Mass$_N$) $*$(Percentage$_N$) "
   ]
  },
  {
   "cell_type": "code",
   "execution_count": 105,
   "metadata": {},
   "outputs": [],
   "source": [
    "def abundance_rate():\n",
    "    r_dict = {}\n",
    "    num_elements = int(input(\"What is your number of elements?\"))\n",
    "    for x in range(num_elements):\n",
    "        x+=1\n",
    "        mass_e = float(input(\"What is the mass of the element?\"))\n",
    "        percent_e = float(input(\"What is the percent of the element?\"))\n",
    "        mass_percent_e = (mass_e)*(float(percent_e/100))\n",
    "        r_dict[x]=mass_percent_e\n",
    "        \n",
    "    sum_abundance = 0.0\n",
    "    for k, y in r_dict.items():\n",
    "        sum_abundance+= y\n",
    "        \n",
    "    return sum_abundance"
   ]
  },
  {
   "cell_type": "code",
   "execution_count": 107,
   "metadata": {},
   "outputs": [
    {
     "name": "stdout",
     "output_type": "stream",
     "text": [
      "What is your number of elements?3\n",
      "What is the mass of the element?28\n",
      "What is the percent of the element?92.23\n",
      "What is the mass of the element?29\n",
      "What is the percent of the element?4.68\n",
      "What is the mass of the element?30\n",
      "What is the percent of the element?3.09\n"
     ]
    },
    {
     "data": {
      "text/plain": [
       "28.1086"
      ]
     },
     "execution_count": 107,
     "metadata": {},
     "output_type": "execute_result"
    }
   ],
   "source": [
    "abundance_rate()"
   ]
  }
 ],
 "metadata": {
  "kernelspec": {
   "display_name": "Python 3",
   "language": "python",
   "name": "python3"
  },
  "language_info": {
   "codemirror_mode": {
    "name": "ipython",
    "version": 3
   },
   "file_extension": ".py",
   "mimetype": "text/x-python",
   "name": "python",
   "nbconvert_exporter": "python",
   "pygments_lexer": "ipython3",
   "version": "3.8.5"
  }
 },
 "nbformat": 4,
 "nbformat_minor": 4
}
