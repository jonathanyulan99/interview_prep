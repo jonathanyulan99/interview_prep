{
 "cells": [
  {
   "cell_type": "markdown",
   "metadata": {},
   "source": [
    "## homework_0 \n",
    "### jonathan_yulan\n",
    "\n",
    "[Jonathan Yulan's Linkedin](https://www.linkedin.com/in/jonathan-yulan-790/) \n",
    "![profile_pic](https://media-exp1.licdn.com/dms/image/C4D03AQEpPWdXW5yoGQ/profile-displayphoto-shrink_800_800/0/1525928695893?e=1637798400&v=beta&t=shKpA-GfxfuXA_oaQCWgTdnXJ9SZwgyejAmiyDzYfik)"
   ]
  },
  {
   "cell_type": "code",
   "execution_count": null,
   "metadata": {},
   "outputs": [],
   "source": []
  }
 ],
 "metadata": {
  "kernelspec": {
   "display_name": "Python 3",
   "language": "python",
   "name": "python3"
  },
  "language_info": {
   "codemirror_mode": {
    "name": "ipython",
    "version": 3
   },
   "file_extension": ".py",
   "mimetype": "text/x-python",
   "name": "python",
   "nbconvert_exporter": "python",
   "pygments_lexer": "ipython3",
   "version": "3.8.5"
  }
 },
 "nbformat": 4,
 "nbformat_minor": 4
}
