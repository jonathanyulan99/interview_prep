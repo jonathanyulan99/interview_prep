{
 "cells": [
  {
   "cell_type": "markdown",
   "metadata": {},
   "source": [
    "## Hash Tables and Sorting\n",
    "\n",
    "* Sorting an Array --> O(nlogn)\n",
    "\n",
    "### Find if an array has duplicates \n",
    "\n",
    "list(vector): $[7,5,2,1,0,2,3]$ \n",
    "\n",
    "#### Brute Force Stratergy \n",
    "* Two For Loops"
   ]
  },
  {
   "cell_type": "code",
   "execution_count": 52,
   "metadata": {},
   "outputs": [],
   "source": [
    "def bf_find_duplicates(list1):\n",
    "    for index,i in enumerate(list1):\n",
    "        for index_2,j in enumerate(list1):\n",
    "            print(index,index_2,i,j)\n",
    "            if index_2!=index:\n",
    "                if i==j:\n",
    "                    return True \n",
    "            \n",
    "        \n",
    "    return False"
   ]
  },
  {
   "cell_type": "code",
   "execution_count": 53,
   "metadata": {},
   "outputs": [],
   "source": [
    "list_1 = [1,2,3,4,5,6]"
   ]
  },
  {
   "cell_type": "code",
   "execution_count": 54,
   "metadata": {},
   "outputs": [
    {
     "name": "stdout",
     "output_type": "stream",
     "text": [
      "0 0 1 1\n",
      "0 1 1 2\n",
      "0 2 1 3\n",
      "0 3 1 4\n",
      "0 4 1 5\n",
      "0 5 1 6\n",
      "1 0 2 1\n",
      "1 1 2 2\n",
      "1 2 2 3\n",
      "1 3 2 4\n",
      "1 4 2 5\n",
      "1 5 2 6\n",
      "2 0 3 1\n",
      "2 1 3 2\n",
      "2 2 3 3\n",
      "2 3 3 4\n",
      "2 4 3 5\n",
      "2 5 3 6\n",
      "3 0 4 1\n",
      "3 1 4 2\n",
      "3 2 4 3\n",
      "3 3 4 4\n",
      "3 4 4 5\n",
      "3 5 4 6\n",
      "4 0 5 1\n",
      "4 1 5 2\n",
      "4 2 5 3\n",
      "4 3 5 4\n",
      "4 4 5 5\n",
      "4 5 5 6\n",
      "5 0 6 1\n",
      "5 1 6 2\n",
      "5 2 6 3\n",
      "5 3 6 4\n",
      "5 4 6 5\n",
      "5 5 6 6\n"
     ]
    },
    {
     "data": {
      "text/plain": [
       "False"
      ]
     },
     "execution_count": 54,
     "metadata": {},
     "output_type": "execute_result"
    }
   ],
   "source": [
    "bf_find_duplicates(list_1)"
   ]
  },
  {
   "cell_type": "code",
   "execution_count": 55,
   "metadata": {},
   "outputs": [],
   "source": [
    "list_2 = [7,2,5,1,0,3,2]"
   ]
  },
  {
   "cell_type": "code",
   "execution_count": 56,
   "metadata": {},
   "outputs": [
    {
     "name": "stdout",
     "output_type": "stream",
     "text": [
      "0 0 7 7\n",
      "0 1 7 2\n",
      "0 2 7 5\n",
      "0 3 7 1\n",
      "0 4 7 0\n",
      "0 5 7 3\n",
      "0 6 7 2\n",
      "1 0 2 7\n",
      "1 1 2 2\n",
      "1 2 2 5\n",
      "1 3 2 1\n",
      "1 4 2 0\n",
      "1 5 2 3\n",
      "1 6 2 2\n"
     ]
    },
    {
     "data": {
      "text/plain": [
       "True"
      ]
     },
     "execution_count": 56,
     "metadata": {},
     "output_type": "execute_result"
    }
   ],
   "source": [
    "bf_find_duplicates(list_2)"
   ]
  },
  {
   "cell_type": "markdown",
   "metadata": {},
   "source": [
    "### What is the time complexity here?\n",
    "\n",
    "* O(n$^2$) **Expotential Time**, due to the nested(2) loops that go up to the end input of our list."
   ]
  },
  {
   "cell_type": "markdown",
   "metadata": {},
   "source": [
    "### Can We Optimize Our Solution? YES!\n",
    "\n",
    "* We can **SORT** our list! Doing this will place our list of numbers in sorted order. Thus if there are duplicates in our system they will be within +1(next too) of our inital value. Thus removing the need for the nested loops in our previous solution."
   ]
  },
  {
   "cell_type": "code",
   "execution_count": 105,
   "metadata": {},
   "outputs": [],
   "source": [
    "def opti_find_duplicates(list1):\n",
    "    assert(len(list1)>0)\n",
    "    list1.sort()\n",
    "    for index,i in enumerate(list1):\n",
    "        if index+1 >= len(list1):\n",
    "            break\n",
    "        else:\n",
    "            if list1[index+1] == i:\n",
    "                return True\n",
    "        \n",
    "    return False"
   ]
  },
  {
   "cell_type": "code",
   "execution_count": 106,
   "metadata": {},
   "outputs": [
    {
     "data": {
      "text/plain": [
       "False"
      ]
     },
     "execution_count": 106,
     "metadata": {},
     "output_type": "execute_result"
    }
   ],
   "source": [
    "list3 = [1,2,3,4,5] ## does not contain duplicate\n",
    "list4 = [1,2,3,4,1] ## contains duplicate\n",
    "\n",
    "opti_find_duplicates(list3)"
   ]
  },
  {
   "cell_type": "code",
   "execution_count": 107,
   "metadata": {},
   "outputs": [
    {
     "data": {
      "text/plain": [
       "True"
      ]
     },
     "execution_count": 107,
     "metadata": {},
     "output_type": "execute_result"
    }
   ],
   "source": [
    "opti_find_duplicates(list4)"
   ]
  },
  {
   "cell_type": "markdown",
   "metadata": {},
   "source": [
    "### What is the time complexity of our new solution?\n",
    "\n",
    "* **O(N)** **Linear Time** - This is due to the fact that we only use one for loop in our equation, but remember this will **ONLY** occur on a sorted list. \n",
    "* We had to call the built in .sort() method which is **O(nlogn)**. \n",
    "* If we have to sort the list first and then run through our for loop it will be **O(nlogn) + O(n)**.\n",
    "* **NOTE** that we only multiply when the loops are nested. \n",
    "* **NOTE** here the .sort() method and the for loop we implemented are seperated, thus we **ADD** the runtime complexities. "
   ]
  },
  {
   "cell_type": "markdown",
   "metadata": {},
   "source": [
    "## HashTables/Dicts vs Arrays \n",
    "\n",
    "* **Hash-Table**: key-value pair; we can use the key and return the associated value for lookups. **O(1)**. The trade off here is the need for more memory. There is also no guranteed ordering of the keys returned with the .keys() function.\n",
    "* **Hash-Set** is different than a **Hash-Table/Dictionary** in the sense that we only care about the key, and does not store any value. We can also lookup the key in a **Hash-Set** in **O(1)** time complexity."
   ]
  },
  {
   "cell_type": "code",
   "execution_count": 110,
   "metadata": {},
   "outputs": [
    {
     "data": {
      "text/plain": [
       "dict_keys(['x', 'y', 'z'])"
      ]
     },
     "execution_count": 110,
     "metadata": {},
     "output_type": "execute_result"
    }
   ],
   "source": [
    "x = dict({'x':1,'y':1,'z':3})\n",
    "x.keys()"
   ]
  },
  {
   "cell_type": "code",
   "execution_count": 129,
   "metadata": {},
   "outputs": [],
   "source": [
    "ex_list_yes = [7,5,2,3,0,2,1] ##contains a duplicate value \n",
    "ex_list_no = [1,2,3,4,5,6,7] ##does not contains a duplicate value \n",
    "ex_dict = dict()\n",
    "\n",
    "for k in ex_list:\n",
    "    ex_dict[k]=True\n",
    "\n",
    "def dict_find_duplicate(list1):\n",
    "    d = dict()\n",
    "    for k in list1:\n",
    "        d[k]=True\n",
    "    \n",
    "    if len(list1)!=len(d): return 'Has Duplicates'\n",
    "    else: return 'No Duplicates'"
   ]
  },
  {
   "cell_type": "code",
   "execution_count": 130,
   "metadata": {},
   "outputs": [
    {
     "data": {
      "text/plain": [
       "'Has Duplicates'"
      ]
     },
     "execution_count": 130,
     "metadata": {},
     "output_type": "execute_result"
    }
   ],
   "source": [
    "dict_find_duplicate(ex_list_yes)"
   ]
  },
  {
   "cell_type": "code",
   "execution_count": 131,
   "metadata": {},
   "outputs": [
    {
     "data": {
      "text/plain": [
       "'No Duplicates'"
      ]
     },
     "execution_count": 131,
     "metadata": {},
     "output_type": "execute_result"
    }
   ],
   "source": [
    "dict_find_duplicate(ex_list_no)"
   ]
  },
  {
   "cell_type": "code",
   "execution_count": 135,
   "metadata": {},
   "outputs": [
    {
     "data": {
      "text/plain": [
       "False"
      ]
     },
     "execution_count": 135,
     "metadata": {},
     "output_type": "execute_result"
    }
   ],
   "source": [
    "## Alternatively duplicates indicate not a set, as a set is unique. \n",
    "## We can take advantage of the set() built-in python structure. \n",
    "\n",
    "answer = set(ex_list_yes)\n",
    "len(answer) == len(ex_list_yes)"
   ]
  },
  {
   "cell_type": "code",
   "execution_count": 136,
   "metadata": {},
   "outputs": [
    {
     "data": {
      "text/plain": [
       "True"
      ]
     },
     "execution_count": 136,
     "metadata": {},
     "output_type": "execute_result"
    }
   ],
   "source": [
    "answer2 = set(ex_list_no)\n",
    "len(answer2) == len(ex_list_no)"
   ]
  }
 ],
 "metadata": {
  "kernelspec": {
   "display_name": "Python 3",
   "language": "python",
   "name": "python3"
  },
  "language_info": {
   "codemirror_mode": {
    "name": "ipython",
    "version": 3
   },
   "file_extension": ".py",
   "mimetype": "text/x-python",
   "name": "python",
   "nbconvert_exporter": "python",
   "pygments_lexer": "ipython3",
   "version": "3.8.5"
  }
 },
 "nbformat": 4,
 "nbformat_minor": 4
}
